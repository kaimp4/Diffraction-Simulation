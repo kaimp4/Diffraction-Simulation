{
 "cells": [
  {
   "cell_type": "markdown",
   "id": "1f3e7f29",
   "metadata": {},
   "source": [
    "# Fresnel Diffraction Approximation Simulator"
   ]
  },
  {
   "cell_type": "code",
   "execution_count": 70,
   "id": "acac89b0",
   "metadata": {},
   "outputs": [],
   "source": [
    "import matplotlib.pyplot as plt\n",
    "import matplotlib as mpl\n",
    "import numpy as np\n",
    "from scipy.fft import *\n",
    "from PIL import Image\n",
    "from pylab import *\n",
    "from matplotlib.widgets import Slider\n",
    "\n",
    "img = Image.open('doubleslitthin.png').convert('L')"
   ]
  },
  {
   "cell_type": "code",
   "execution_count": 71,
   "id": "62b5132b",
   "metadata": {},
   "outputs": [],
   "source": [
    "# units\n",
    "cm = 1e-2\n",
    "mm = 1e-3\n",
    "um = 1e-6\n",
    "nm = 1e-9"
   ]
  },
  {
   "cell_type": "markdown",
   "id": "f2a45002",
   "metadata": {},
   "source": [
    "I recommend that aperture size and plane size are the same units at the least. If they are too different, the aperture generator won't resize correctly."
   ]
  },
  {
   "cell_type": "code",
   "execution_count": 95,
   "id": "e757f70e",
   "metadata": {},
   "outputs": [
    {
     "name": "stdout",
     "output_type": "stream",
     "text": [
      "(10.0, 10.0)\n",
      "0.0009963650327738196\n"
     ]
    }
   ],
   "source": [
    "wavelength = 632 * nm\n",
    "sensitivity = 1\n",
    "z = 0.5\n",
    "\n",
    "# Fresnel Number; aperture dimensions must be less than or equal to this\n",
    "f = np.sqrt((np.pi)*(z*wavelength))\n",
    "\n",
    "unit = mm\n",
    "\n",
    "# Aperture plane\n",
    "width = 10 * unit\n",
    "height = 10 * unit\n",
    "\n",
    "# Aperture size\n",
    "width_a = 1 * unit\n",
    "height_a = 1 * unit\n",
    "\n",
    "sizefactor = width/width_a, height/height_a\n",
    "\n",
    "dx = 2000\n",
    "dy = 2000\n",
    "\n",
    "print(sizefactor)\n",
    "\n",
    "print(f)"
   ]
  },
  {
   "cell_type": "code",
   "execution_count": 107,
   "id": "0e9d00cd",
   "metadata": {},
   "outputs": [],
   "source": [
    "# Capitals define the screen plane with the center being 0, total lengths x and y\n",
    "x = (width/dx)*(np.arange(dx)-dx//2) \n",
    "y = (height/dy)*(np.arange(dy)-dy//2)\n",
    "X, Y = np.meshgrid(x, y)"
   ]
  },
  {
   "cell_type": "code",
   "execution_count": 108,
   "id": "a64948b0",
   "metadata": {},
   "outputs": [
    {
     "data": {
      "image/png": "[encoded data removed]",
      "text/plain": [
       "<Figure size 360x360 with 1 Axes>"
      ]
     },
     "metadata": {
      "needs_background": "light"
     },
     "output_type": "display_data"
    },
    {
     "name": "stdout",
     "output_type": "stream",
     "text": [
      "[[0 0 0 ... 0 0 0]\n",
      " [0 0 0 ... 0 0 0]\n",
      " [0 0 0 ... 0 0 0]\n",
      " ...\n",
      " [0 0 0 ... 0 0 0]\n",
      " [0 0 0 ... 0 0 0]\n",
      " [0 0 0 ... 0 0 0]]\n"
     ]
    }
   ],
   "source": [
    "# Create a black background image with specified dimensions\n",
    "img_back = Image.new('L', (dx,dy), 'black')\n",
    "\n",
    "# Resize aperture image to adjusted dimensions based on the ratio of aperture plane to aperture size\n",
    "img_size = (int(dx/sizefactor[0]), int(dy/sizefactor[0]))\n",
    "resized = img.resize(img_size)\n",
    "\n",
    "# Impose aperture picture to black background in the center\n",
    "img_back.paste(resized, ((dx-img_size[0])//2, (dy-img_size[1])//2))\n",
    "\n",
    "# Convert image to a numpy array (same shape as dimension specified)\n",
    "img_arr = np.asarray(img_back)\n",
    "\n",
    "img_arr = np.where(img_arr > 0, 1, 0)\n",
    "        \n",
    "# Plot the aperture with correct units\n",
    "extent_a = [-width/(unit*2), width/(unit*2), -height/(unit*2), height/(unit*2)]\n",
    "\n",
    "plt.figure(figsize=(5,5))\n",
    "plt.imshow(img_arr, cmap=\"gray\", extent=extent_a)\n",
    "\n",
    "if unit == cm:\n",
    "    plt.xlabel('cm')\n",
    "    plt.ylabel('cm')\n",
    "elif unit == mm:\n",
    "    plt.xlabel('mm')\n",
    "    plt.ylabel('mm')\n",
    "elif unit == um:\n",
    "    plt.xlabel('μm')\n",
    "    plt.ylabel('μm')\n",
    "elif unit == nm:\n",
    "    plt.xlabel('nm')\n",
    "    plt.ylabel('nm')\n",
    "\n",
    "plt.show()\n",
    "\n",
    "# Create light field from the set intensity (E0) and the image array\n",
    "# Idea is E * aperture = E transmitted\n",
    "E = img_arr"
   ]
  },
  {
   "cell_type": "code",
   "execution_count": 109,
   "id": "903c0db8",
   "metadata": {},
   "outputs": [],
   "source": [
    "def I(width, height, dx, dy, wavelength, E, X, Y, z):\n",
    "    # Obtain the spatial frequencies of the FT\n",
    "    wx = fftshift(fftfreq(dx, (width/dx)))\n",
    "    wy = fftshift(fftfreq(dy, (width/dy)))\n",
    "\n",
    "    # Intensity using Fresnel Diffraction Integral, which is the FT part without the proportionality constant\n",
    "    return np.abs(fftshift(fft2(E * np.exp((1j * np.pi)/(wavelength*z) *(X**2 + Y**2)))))\n",
    "\n",
    "I = I(width, height, dx, dy, wavelength, E, X, Y, z)"
   ]
  },
  {
   "cell_type": "code",
   "execution_count": 112,
   "id": "55c1dced",
   "metadata": {},
   "outputs": [
    {
     "data": {
      "image/png": "[encoded data removed]",
      "text/plain": [
       "<Figure size 504x504 with 1 Axes>"
      ]
     },
     "metadata": {
      "needs_background": "light"
     },
     "output_type": "display_data"
    }
   ],
   "source": [
    "# Dimensions of the screen\n",
    "dxscreen = z*wavelength/(2*width)\n",
    "dyscreen = z*wavelength/(2*height)\n",
    "xscreen = dxscreen * (np.arange(dx)-dx//2)\n",
    "yscreen = dyscreen * (np.arange(dy)-dy//2)\n",
    "\n",
    "ex = [xscreen[0], xscreen[-1], yscreen[0], yscreen[-1]]\n",
    "\n",
    "plt.figure(figsize=(7,7))\n",
    "plt.imshow(I, cmap='gray', interpolation=\"spline36\", extent = ex, origin = \"lower\", vmax=np.max(I)*sensitivity)\n",
    "plt.xlabel('m')\n",
    "plt.ylabel('m')\n",
    "plt.title('λ = {} nm'.format(wavelength/nm))\n",
    "plt.show()"
   ]
  }
 ],
 "metadata": {
  "kernelspec": {
   "display_name": "Python 3 (ipykernel)",
   "language": "python",
   "name": "python3"
  },
  "language_info": {
   "codemirror_mode": {
    "name": "ipython",
    "version": 3
   },
   "file_extension": ".py",
   "mimetype": "text/x-python",
   "name": "python",
   "nbconvert_exporter": "python",
   "pygments_lexer": "ipython3",
   "version": "3.9.12"
  }
 },
 "nbformat": 4,
 "nbformat_minor": 5
}
